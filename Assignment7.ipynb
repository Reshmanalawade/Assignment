{
 "cells": [
  {
   "cell_type": "code",
   "execution_count": 18,
   "metadata": {
    "colab": {
     "base_uri": "https://localhost:8080/"
    },
    "id": "sr421UDvqje3",
    "outputId": "b781b7d7-d509-4c36-ae64-300fda7d52f6"
   },
   "outputs": [
    {
     "name": "stdout",
     "output_type": "stream",
     "text": [
      "1 2 8\n"
     ]
    }
   ],
   "source": [
    "#Q1. What will be the output of the following function call, and why?\n",
    "def func(a, b=6, c=8):\n",
    "    print(a, b, c)\n",
    "\n",
    "func(1, 2)\n",
    "\n"
   ]
  },
  {
   "cell_type": "markdown",
   "metadata": {
    "id": "NtfrTn4Iq8Bu"
   },
   "source": [
    "Only two arguments are passed to func: 1 and 2, which match a and b, respectively. Since c is not given, it uses its default value 8."
   ]
  },
  {
   "cell_type": "markdown",
   "metadata": {
    "id": "Q7N-DWMFqfNx"
   },
   "source": []
  },
  {
   "cell_type": "code",
   "execution_count": 6,
   "metadata": {
    "colab": {
     "base_uri": "https://localhost:8080/"
    },
    "id": "AxVwIvK5rMZm",
    "outputId": "933cf31f-6460-40b9-c9b9-ae165a12675c"
   },
   "outputs": [
    {
     "name": "stdout",
     "output_type": "stream",
     "text": [
      "1 2 3\n"
     ]
    }
   ],
   "source": [
    "#2. Keyword Arguments with Defaults Predict the output and explain:\n",
    "def func(a, b, c=5):\n",
    "    print(a, b, c)\n",
    "\n",
    "func(1, c=3, b=2)\n"
   ]
  },
  {
   "cell_type": "markdown",
   "metadata": {
    "id": "YxhVxlBproYm"
   },
   "source": [
    "Keyword arguments can be passed in any order, as long as:\n",
    "\n",
    "They match parameter names\n",
    "\n",
    "All required positional arguments are passed before keyword ones"
   ]
  },
  {
   "cell_type": "code",
   "execution_count": 7,
   "metadata": {
    "colab": {
     "base_uri": "https://localhost:8080/"
    },
    "id": "RFqYTwJRruEv",
    "outputId": "3be59733-0d25-419c-ed1c-6d585fdf7481"
   },
   "outputs": [
    {
     "name": "stdout",
     "output_type": "stream",
     "text": [
      "1 (2, 3)\n"
     ]
    }
   ],
   "source": [
    "#3. Positional Variable-Length Arguments Explain the behavior and output:\n",
    "def func(a, *pargs):\n",
    "    print(a, pargs)\n",
    "\n",
    "func(1, 2, 3)\n",
    "\n"
   ]
  },
  {
   "cell_type": "markdown",
   "metadata": {
    "id": "jiFg5PQrsMH-"
   },
   "source": [
    " Explanation:\n",
    "The pargs syntax allows the function to accept a variable number of positional arguments beyond those that are explicitly defined.\n",
    "\n",
    "These extra arguments are captured in a tuple."
   ]
  },
  {
   "cell_type": "code",
   "execution_count": 9,
   "metadata": {
    "colab": {
     "base_uri": "https://localhost:8080/"
    },
    "id": "SayOrJ96sNVX",
    "outputId": "5a52301a-01ff-40f1-da54-d4a8d4f46240"
   },
   "outputs": [
    {
     "name": "stdout",
     "output_type": "stream",
     "text": [
      "1 {'c': 3, 'b': 2}\n"
     ]
    }
   ],
   "source": [
    "#4. Keyword Variable-Length Arguments What will this code print, and why?\n",
    "def func(a, **kargs):\n",
    "    print(a, kargs)\n",
    "\n",
    "func(a=1, c=3, b=2)\n"
   ]
  },
  {
   "cell_type": "markdown",
   "metadata": {
    "id": "jE6dWmuRsmne"
   },
   "source": [
    "Explanation:\n",
    "a is set directly from the keyword argument a=1\n",
    "\n",
    "b=2 and c=3 don’t match any named parameters, so they go into **kargs as a dictionary."
   ]
  },
  {
   "cell_type": "code",
   "execution_count": 10,
   "metadata": {
    "colab": {
     "base_uri": "https://localhost:8080/"
    },
    "id": "N7vfFA_9stEv",
    "outputId": "9975481f-8a24-461a-d5aa-314fe1f9aaec"
   },
   "outputs": [
    {
     "name": "stdout",
     "output_type": "stream",
     "text": [
      "1 5 6 5\n"
     ]
    }
   ],
   "source": [
    "#5. Mixing Positional and Unpacked Tuple Arguments\n",
    "#Q5. Explain the result of this call:\n",
    "def func(a, b, c=8, d=5):\n",
    "    print(a, b, c, d)\n",
    "\n",
    "func(1, *(5, 6))\n",
    "\n"
   ]
  },
  {
   "cell_type": "markdown",
   "metadata": {
    "id": "MhBO5kVbtAn1"
   },
   "source": [
    "Explanation:\n",
    "Tuple unpacking with * fills the parameters in order.\n",
    "\n",
    "Since only 3 arguments are passed, and the function can take 4 (with defaults), the final one (d) uses its default."
   ]
  },
  {
   "cell_type": "code",
   "execution_count": 11,
   "metadata": {
    "colab": {
     "base_uri": "https://localhost:8080/"
    },
    "id": "rL7MGtSita4e",
    "outputId": "ff06f5f9-8964-4ee6-ecc1-43be20130236"
   },
   "outputs": [
    {
     "name": "stdout",
     "output_type": "stream",
     "text": [
      "1 ['x'] {'a': 'y'}\n"
     ]
    }
   ],
   "source": [
    "#6. Mutable vs Immutable Behavior\n",
    "#Q6. Predict the output of the variables l, m, and n after this code runs:\n",
    "def func(a, b, c):\n",
    "    a = 2\n",
    "    b[0] = 'x'\n",
    "    c['a'] = 'y'\n",
    "\n",
    "l = 1\n",
    "m = [1]\n",
    "n = {'a': 0}\n",
    "\n",
    "func(l, m, n)\n",
    "\n",
    "print(l, m, n)\n",
    "\n"
   ]
  },
  {
   "cell_type": "markdown",
   "metadata": {
    "id": "EiCg4quCuf1G"
   },
   "source": [
    "Bonus Challenge\n",
    "Write a function that accepts:\n",
    "• one required argument,\n",
    "• a variable number of positional arguments,\n",
    "• a variable number of keyword arguments,\n",
    "Then print all three components. Call it with:\n",
    "my_func(10, 20, 30, x=5, y=15)\n",
    "\n",
    "Would you like me to combine Assignments 23 and 24 into a formatted PDF or exportable\n",
    "Word document?"
   ]
  },
  {
   "cell_type": "code",
   "execution_count": 12,
   "metadata": {
    "id": "DVDpajm4ulnV"
   },
   "outputs": [],
   "source": [
    "def my_func(a, *args, **kwargs):\n",
    "    print(\"Required argument:\", a)\n",
    "    print(\"Positional arguments (*args):\", args)\n",
    "    print(\"Keyword arguments (**kwargs):\", kwargs)\n"
   ]
  },
  {
   "cell_type": "code",
   "execution_count": 13,
   "metadata": {
    "colab": {
     "base_uri": "https://localhost:8080/"
    },
    "id": "QH40-kuQusP-",
    "outputId": "f80aac3b-0eb2-4ae2-9730-e6aa559a9b83"
   },
   "outputs": [
    {
     "name": "stdout",
     "output_type": "stream",
     "text": [
      "Required argument: 10\n",
      "Positional arguments (*args): (20, 30)\n",
      "Keyword arguments (**kwargs): {'x': 5, 'y': 15}\n"
     ]
    }
   ],
   "source": [
    "my_func(10, 20, 30, x=5, y=15)\n"
   ]
  }
 ],
 "metadata": {
  "colab": {
   "provenance": []
  },
  "kernelspec": {
   "display_name": "Python 3 (ipykernel)",
   "language": "python",
   "name": "python3"
  },
  "language_info": {
   "codemirror_mode": {
    "name": "ipython",
    "version": 3
   },
   "file_extension": ".py",
   "mimetype": "text/x-python",
   "name": "python",
   "nbconvert_exporter": "python",
   "pygments_lexer": "ipython3",
   "version": "3.12.7"
  }
 },
 "nbformat": 4,
 "nbformat_minor": 4
}
