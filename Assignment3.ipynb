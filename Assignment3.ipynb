{
 "cells": [
  {
   "cell_type": "code",
   "execution_count": 1,
   "id": "4d7dfe67-1716-45ae-aa17-c64f1e2cbb40",
   "metadata": {},
   "outputs": [
    {
     "name": "stdout",
     "output_type": "stream",
     "text": [
      "Floor Division  3\n",
      "Normal Division  3.75\n"
     ]
    }
   ],
   "source": [
    "# Question 1:\n",
    "# Create a variable x with the value 15 . Perform floored division by 4 and\n",
    "# print the result. What is the difference between floored division and normal\n",
    "# division?\n",
    "\n",
    "x = 15\n",
    "print(\"Floor Division \", x // 4)\n",
    "print(\"Normal Division \", x / 4)"
   ]
  },
  {
   "cell_type": "code",
   "execution_count": 3,
   "id": "b16deaad-dc11-4f53-96b7-f8431512a22c",
   "metadata": {},
   "outputs": [
    {
     "name": "stdout",
     "output_type": "stream",
     "text": [
      "Raised To  512\n",
      "Squared Root  4.0\n"
     ]
    }
   ],
   "source": [
    "# Question 2:\n",
    "# Write a program to calculate 8 ** 2 and 16 ** 0.5 . Print both results and\n",
    "# describe what each represents.\n",
    "\n",
    "print(\"Raised To \", 8 ** 3)\n",
    "print(\"Squared Root \", 16 ** 0.5)"
   ]
  },
  {
   "cell_type": "code",
   "execution_count": 5,
   "id": "d782a863-619a-4cb3-8ab1-ddfe54fff024",
   "metadata": {},
   "outputs": [
    {
     "name": "stdout",
     "output_type": "stream",
     "text": [
      "6.25\n"
     ]
    }
   ],
   "source": [
    "# Question 3:\n",
    "# Use arithmetic operators to solve the following expression: 20 - 5 * 3 + 8 /4 . \n",
    "# Use parentheses to make sure the addition happens before\n",
    "# multiplication. Print the output.\n",
    "\n",
    "print(20 - 5 * (3 + 8) / 4)"
   ]
  },
  {
   "cell_type": "code",
   "execution_count": 7,
   "id": "8ff51cec-2b08-4d35-8cf3-2579c2a6d6d1",
   "metadata": {},
   "outputs": [
    {
     "name": "stdout",
     "output_type": "stream",
     "text": [
      "7.0\n"
     ]
    }
   ],
   "source": [
    "# Question 4:\n",
    "# Assign the value 7 to a variable num . Convert it to a float and print the\n",
    "# result. What is the difference between 7 and 7.0 ?\n",
    "\n",
    "num = 7\n",
    "result = float(num)\n",
    "print(result)"
   ]
  },
  {
   "cell_type": "code",
   "execution_count": 9,
   "id": "b5cdd318-9e79-4c55-965c-2b663f7c3ddd",
   "metadata": {},
   "outputs": [
    {
     "name": "stdout",
     "output_type": "stream",
     "text": [
      "<class 'bool'>\n",
      "True\n"
     ]
    }
   ],
   "source": [
    "# Question 5:\n",
    "# Use a comparison operator to check if 100 is greater than 50 . Print the\n",
    "# result and indicate what type of value this is.\n",
    "\n",
    "result = 100 > 50\n",
    "print(type(result))\n",
    "print(result)"
   ]
  },
  {
   "cell_type": "code",
   "execution_count": 11,
   "id": "c535ba23-722a-432b-b4f7-2ceb7635eea1",
   "metadata": {},
   "outputs": [
    {
     "name": "stdout",
     "output_type": "stream",
     "text": [
      "False\n"
     ]
    }
   ],
   "source": [
    "# Question 6:\n",
    "# Assign True to a variable is_sunny and False to is_weekend . Use logical\n",
    "# operators to check if it is sunny and the weekend ( is_sunny and is_weekend ).\n",
    "# Print the result.\n",
    "\n",
    "is_sunny = True\n",
    "is_weekend = False\n",
    "print(is_sunny and is_weekend)"
   ]
  },
  {
   "cell_type": "code",
   "execution_count": 17,
   "id": "8a1c9dfb-6978-439d-9809-6f966fbb9033",
   "metadata": {},
   "outputs": [
    {
     "name": "stdin",
     "output_type": "stream",
     "text": [
      "Enter Password my_password123\n"
     ]
    },
    {
     "name": "stdout",
     "output_type": "stream",
     "text": [
      "True\n"
     ]
    }
   ],
   "source": [
    "# Question 7:\n",
    "# Create a variable password and set it to \"my_password123\" . Ask the user to input\n",
    "# a password and print True if the input matches the value of password ,\n",
    "# otherwise print False .\n",
    "\n",
    "password = \"my_password123\"\n",
    "user_input = input(\"Enter Password\")\n",
    "check_password = lambda input_password: input_password == password\n",
    "print(check_password(user_input))"
   ]
  },
  {
   "cell_type": "code",
   "execution_count": 21,
   "id": "b61031c4-0805-4038-a4ff-84eb28d83ef0",
   "metadata": {},
   "outputs": [
    {
     "name": "stdout",
     "output_type": "stream",
     "text": [
      "55\n"
     ]
    }
   ],
   "source": [
    "# Question 8:\n",
    "# Assign the value 50 to a variable marks . Increment the value of marks by 5\n",
    "# using the += operator, then print the new value.\n",
    "\n",
    "marks = 50\n",
    "marks += 5\n",
    "print(marks)"
   ]
  },
  {
   "cell_type": "code",
   "execution_count": 23,
   "id": "119f62ba-b723-4715-b3df-dc931ffa5afa",
   "metadata": {},
   "outputs": [
    {
     "name": "stdout",
     "output_type": "stream",
     "text": [
      "10\n"
     ]
    }
   ],
   "source": [
    "# Question 9:\n",
    "# Write a program to check if the value of a = 0 and b = 10 satisfies a or b .\n",
    "# Print the output and explain why it gives that result.\n",
    "\n",
    "a = 0\n",
    "b = 10\n",
    "\n",
    "result = a or b\n",
    "print(result)\n",
    "\n",
    "# The or operator returns the first truthy value it encounters, or the last value if no truthy value is found.\n",
    "# Since a is falsy (0), Python evaluates b, which is truthy (10), so the result is 10."
   ]
  },
  {
   "cell_type": "code",
   "execution_count": 25,
   "id": "da9943ff-1555-4ed1-8961-961b57e5a71d",
   "metadata": {},
   "outputs": [
    {
     "name": "stdout",
     "output_type": "stream",
     "text": [
      "Negated result: True\n"
     ]
    }
   ],
   "source": [
    "# Question 10:\n",
    "# Use not to negate the value of False and print the result. Explain what the\n",
    "# not operator does in Python.\n",
    "\n",
    "# The not operator in Python is used to negate the boolean value of an expression.\n",
    "# If the expression evaluates to True, applying not will make it False, \n",
    "# and if the expression evaluates to False, applying not will make it True.\n",
    "\n",
    "# Original value\n",
    "is_false = False\n",
    "\n",
    "# Apply 'not' to negate the value\n",
    "result = not is_false\n",
    "\n",
    "# Print the result\n",
    "print(\"Negated result:\", result)"
   ]
  }
 ],
 "metadata": {
  "kernelspec": {
   "display_name": "Python 3 (ipykernel)",
   "language": "python",
   "name": "python3"
  },
  "language_info": {
   "codemirror_mode": {
    "name": "ipython",
    "version": 3
   },
   "file_extension": ".py",
   "mimetype": "text/x-python",
   "name": "python",
   "nbconvert_exporter": "python",
   "pygments_lexer": "ipython3",
   "version": "3.12.7"
  }
 },
 "nbformat": 4,
 "nbformat_minor": 5
}
