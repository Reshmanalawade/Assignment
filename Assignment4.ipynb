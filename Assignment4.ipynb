{
 "cells": [
  {
   "cell_type": "code",
   "execution_count": 3,
   "id": "c77e0615-34d9-4d2f-828c-f7d1fcd43613",
   "metadata": {},
   "outputs": [
    {
     "name": "stdin",
     "output_type": "stream",
     "text": [
      "Enter Number : 23\n"
     ]
    },
    {
     "name": "stdout",
     "output_type": "stream",
     "text": [
      "Odd Number\n"
     ]
    }
   ],
   "source": [
    "# Question 1:\n",
    "# Write a Python program that checks if a number entered by the user is even\n",
    "# or odd. Print \"Even\" if the number is even and \"Odd\" if it is odd.\n",
    "\n",
    "def check_Number():\n",
    "    \n",
    "    user_input = int(input(\"Enter Number :\"))\n",
    "    if user_input % 2 == 0:\n",
    "        print(\"Even Number\")\n",
    "    else:\n",
    "        print(\"Odd Number\")\n",
    "\n",
    "check_Number()"
   ]
  },
  {
   "cell_type": "code",
   "execution_count": 5,
   "id": "8d2579ec-7f15-4a3f-bcfa-84ff4a3c4550",
   "metadata": {},
   "outputs": [
    {
     "name": "stdin",
     "output_type": "stream",
     "text": [
      "Enter Age : 21\n"
     ]
    },
    {
     "name": "stdout",
     "output_type": "stream",
     "text": [
      "adult\n"
     ]
    }
   ],
   "source": [
    "# Question 2:\n",
    "# Create a program that prompts the user for their age and prints whether\n",
    "# they are a child (0-12), teenager (13-19), or adult (20 and above).\n",
    "\n",
    "def check_age():\n",
    "\n",
    "    user_input = float(input(\"Enter Age :\"))\n",
    "    if 0 <= user_input <= 12:\n",
    "        print(\"child\")\n",
    "    elif 12 < user_input <= 19:\n",
    "        print(\"teenager\")\n",
    "    else:\n",
    "        print(\"adult\")\n",
    "\n",
    "check_age()"
   ]
  },
  {
   "cell_type": "code",
   "execution_count": 7,
   "id": "520fa2ce-fbd5-4917-a0aa-34375561d3cb",
   "metadata": {},
   "outputs": [
    {
     "name": "stdin",
     "output_type": "stream",
     "text": [
      "Enter 1st Number : 50\n",
      "Enter 2nd Number : 22\n"
     ]
    },
    {
     "name": "stdout",
     "output_type": "stream",
     "text": [
      "Largest Number : 50.0\n"
     ]
    }
   ],
   "source": [
    "# Question 3:\n",
    "# Write a program that takes two numbers as input from the user and prints\n",
    "# which number is larger. If both numbers are equal, \n",
    "# print \"Both numbers are equal.\"\n",
    "\n",
    "def check_larger():\n",
    "\n",
    "    no1 = float(input(\"Enter 1st Number :\"))\n",
    "    no2 = float(input(\"Enter 2nd Number :\"))\n",
    "    if no1 > no2:\n",
    "        print(\"Largest Number :\", no1)\n",
    "    elif no1 == no2:\n",
    "        print(\"Both numbers are equal.\")\n",
    "    else:\n",
    "        print(\"Largest Number :\", no2)\n",
    "\n",
    "check_larger()"
   ]
  },
  {
   "cell_type": "code",
   "execution_count": 9,
   "id": "165550b1-f5ad-433f-900c-a3661ec75a05",
   "metadata": {},
   "outputs": [
    {
     "name": "stdin",
     "output_type": "stream",
     "text": [
      "Enter Password : securepassword\n"
     ]
    },
    {
     "name": "stdout",
     "output_type": "stream",
     "text": [
      "Access Denied\n"
     ]
    }
   ],
   "source": [
    "# Question 4:\n",
    "# Create a program that checks if a user-entered password matches the\n",
    "# string \"securePassword\". Print \"Access Granted\" if it matches, otherwise\n",
    "# print \"Access Denied.\"\n",
    "\n",
    "def check_password():\n",
    "\n",
    "    str1 = input(\"Enter Password :\")\n",
    "    str2 = \"securePassword\"\n",
    "\n",
    "    if str1 == str2:\n",
    "        print(\"Access Granted\")\n",
    "    else:\n",
    "        print(\"Access Denied\")\n",
    "\n",
    "check_password()"
   ]
  },
  {
   "cell_type": "code",
   "execution_count": 11,
   "id": "1402e6d9-0ee5-46d6-abf9-8dabf1efb0c6",
   "metadata": {},
   "outputs": [
    {
     "name": "stdin",
     "output_type": "stream",
     "text": [
      "Enter Your Score (0 - 100) : 82\n"
     ]
    },
    {
     "name": "stdout",
     "output_type": "stream",
     "text": [
      "B\n"
     ]
    }
   ],
   "source": [
    "# Question 5:\n",
    "# Write a program that takes a score from the user (0-100) and prints the\n",
    "# corresponding grade:\n",
    "# A for 90-100\n",
    "# B for 80-89\n",
    "# C for 70-79\n",
    "# D for 60-69\n",
    "# F for below 60\n",
    "\n",
    "def enter_score():\n",
    "\n",
    "    user_score = int(input(\"Enter Your Score (0 - 100) :\"))\n",
    "\n",
    "    if 0 <= user_score <= 100:\n",
    "        \n",
    "        if 100 >= user_score >= 90:\n",
    "            print(\"A\")\n",
    "        elif 89 >= user_score >= 80:\n",
    "            print(\"B\")\n",
    "        elif 79 >= user_score >= 70:\n",
    "            print(\"C\")\n",
    "        elif 69 >= user_score >= 60:\n",
    "            print(\"D\")\n",
    "        else:\n",
    "            print(\"F\")\n",
    "    else:\n",
    "        print(\"Invalid score! Please enter a score between 0 and 100.\")\n",
    "    \n",
    "enter_score()"
   ]
  },
  {
   "cell_type": "code",
   "execution_count": 13,
   "id": "b1132cf5-ff6d-4d72-9bc8-b9957634c962",
   "metadata": {},
   "outputs": [
    {
     "name": "stdin",
     "output_type": "stream",
     "text": [
      "Enter A Number : 22\n"
     ]
    },
    {
     "name": "stdout",
     "output_type": "stream",
     "text": [
      "Positive Number\n"
     ]
    }
   ],
   "source": [
    "# Question 6:\n",
    "# Create a program that asks the user for a number and checks if it is\n",
    "# positive, negative, or zero. Print the corresponding message.\n",
    "\n",
    "def enter_number():\n",
    "\n",
    "    user_no = int(input(\"Enter A Number :\"))\n",
    "        \n",
    "    if user_no > 0:\n",
    "        print(\"Positive Number\")\n",
    "    elif user_no == 0:\n",
    "        print(\"Zero Number\")\n",
    "    elif user_no < 0:\n",
    "        print(\"Negative Number\")\n",
    "\n",
    "enter_number()"
   ]
  },
  {
   "cell_type": "code",
   "execution_count": 15,
   "id": "d6b3f40e-3d66-454b-a2c8-d4a3b74d957d",
   "metadata": {},
   "outputs": [
    {
     "name": "stdin",
     "output_type": "stream",
     "text": [
      "Enter 1st Number : 52\n",
      "Enter 2nd Number : 63\n",
      "Enter 3rd Number : 42\n"
     ]
    },
    {
     "name": "stdout",
     "output_type": "stream",
     "text": [
      "Largest Number : 63\n"
     ]
    }
   ],
   "source": [
    "# Question 7:\n",
    "# Write a program that takes three numbers from the user and determines the\n",
    "# largest of the three. Print the largest number.\n",
    "\n",
    "def largest_number():\n",
    "\n",
    "    no1 = int(input(\"Enter 1st Number :\"))\n",
    "    no2 = int(input(\"Enter 2nd Number :\"))\n",
    "    no3 = int(input(\"Enter 3rd Number :\"))\n",
    "\n",
    "    largest = max(no1,no2,no3)\n",
    "    print(\"Largest Number :\", largest)\n",
    "\n",
    "largest_number()"
   ]
  },
  {
   "cell_type": "code",
   "execution_count": 17,
   "id": "30011989-2450-4afb-8088-81d98b03b1ce",
   "metadata": {},
   "outputs": [
    {
     "name": "stdin",
     "output_type": "stream",
     "text": [
      "Enter Character : r\n"
     ]
    },
    {
     "name": "stdout",
     "output_type": "stream",
     "text": [
      "r is a consonant.\n"
     ]
    }
   ],
   "source": [
    "# Question 8:\n",
    "# Create a program that checks if a user-entered character is a \n",
    "# vowel (a, e, i, o, u) or a consonant. Print the corresponding message.\n",
    "\n",
    "def check_vowel():\n",
    "\n",
    "    str1 = input(\"Enter Character :\").lower()\n",
    "\n",
    "    if str1 in 'aeiou':\n",
    "        print(f\"{str1} is a vowel.\")\n",
    "    elif str1.isalpha():\n",
    "        print(f\"{str1} is a consonant.\")\n",
    "    else:\n",
    "        print(\"Please enter a valid alphabetic character.\")\n",
    "\n",
    "check_vowel()"
   ]
  },
  {
   "cell_type": "code",
   "execution_count": 23,
   "id": "fe14c056-acc2-4a0b-bfe3-bd252e17aab7",
   "metadata": {},
   "outputs": [
    {
     "name": "stdin",
     "output_type": "stream",
     "text": [
      "Enter Year : 2002\n"
     ]
    },
    {
     "name": "stdout",
     "output_type": "stream",
     "text": [
      "2002 is not a leap year.\n"
     ]
    }
   ],
   "source": [
    "# Question 9:\n",
    "# Write a program that checks if a given year is a leap year. A year is a leap\n",
    "# year if it is divisible by 4, except for years that are divisible by 100 but not\n",
    "# divisible by 400.\n",
    "\n",
    "def check_leap():\n",
    "\n",
    "    year = int(input(\"Enter Year :\"))\n",
    "\n",
    "    if (year % 4 == 0 and year % 100 != 0) or (year % 400 == 0):\n",
    "        print(f\"{year} is a leap year.\")\n",
    "    else:\n",
    "        print(f\"{year} is not a leap year.\")\n",
    "\n",
    "check_leap()"
   ]
  },
  {
   "cell_type": "code",
   "execution_count": 27,
   "id": "e82b90c2-5c57-4afa-8923-ca4b6778cb28",
   "metadata": {},
   "outputs": [
    {
     "name": "stdin",
     "output_type": "stream",
     "text": [
      "Enter Temperature In Celsius : 45\n"
     ]
    },
    {
     "name": "stdout",
     "output_type": "stream",
     "text": [
      "It's boiling! 113.0\n"
     ]
    }
   ],
   "source": [
    "# Question 10:\n",
    "# Create a program that prompts the user for a temperature in Celsius and\n",
    "# converts it to Fahrenheit. If the converted temperature is greater than 100°F,\n",
    "# print \"It's boiling!\" Otherwise, print \"It's not boiling yet.\"\n",
    "\n",
    "def convert_temp():\n",
    "\n",
    "    temperature = int(input(\"Enter Temperature In Celsius :\"))\n",
    "    \n",
    "    temp1 = (temperature * 9/5) + 32\n",
    "    \n",
    "    if temp1 > 100:\n",
    "        print(\"It's boiling!\", temp1)\n",
    "    else:\n",
    "        print(\"It's not boiling yet.\", temp1)\n",
    "\n",
    "convert_temp()"
   ]
  }
 ],
 "metadata": {
  "kernelspec": {
   "display_name": "Python 3 (ipykernel)",
   "language": "python",
   "name": "python3"
  },
  "language_info": {
   "codemirror_mode": {
    "name": "ipython",
    "version": 3
   },
   "file_extension": ".py",
   "mimetype": "text/x-python",
   "name": "python",
   "nbconvert_exporter": "python",
   "pygments_lexer": "ipython3",
   "version": "3.12.7"
  }
 },
 "nbformat": 4,
 "nbformat_minor": 5
}
