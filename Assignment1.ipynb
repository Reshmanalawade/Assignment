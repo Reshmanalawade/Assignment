{
 "cells": [
  {
   "cell_type": "code",
   "execution_count": 3,
   "id": "3124f2f4-58ff-4c56-b969-d7cc74c713c2",
   "metadata": {},
   "outputs": [
    {
     "name": "stdout",
     "output_type": "stream",
     "text": [
      "Your Name \n",
      "Green\n"
     ]
    }
   ],
   "source": [
    "# Question 1:\n",
    "# Write a Python program to print your name and favourite colour on two\n",
    "# separate lines.\n",
    "print(\"Your Name \\nGreen\")"
   ]
  },
  {
   "cell_type": "code",
   "execution_count": 5,
   "id": "326c12e4-41c6-4927-bd9c-6c48caffed43",
   "metadata": {},
   "outputs": [
    {
     "name": "stdout",
     "output_type": "stream",
     "text": [
      "15\n"
     ]
    }
   ],
   "source": [
    "# Question 2:\n",
    "# Write a Python program that prints the result of adding 7 and 8.\n",
    "print(7+8)"
   ]
  },
  {
   "cell_type": "code",
   "execution_count": 7,
   "id": "f18619d4-e380-4c0c-ad6d-87482474dbdf",
   "metadata": {},
   "outputs": [
    {
     "name": "stdout",
     "output_type": "stream",
     "text": [
      "Python is fun! \n",
      "Let's Learn together.\n"
     ]
    }
   ],
   "source": [
    "# Question 3:\n",
    "# Use the print function to display the following text exactly as it is:\n",
    "# Python is fun!\n",
    "# Let's learn together.\n",
    "print(\"Python is fun! \\nLet's Learn together.\")"
   ]
  },
  {
   "cell_type": "code",
   "execution_count": 9,
   "id": "ead0a2c6-3297-413a-9f37-60d16ed056c2",
   "metadata": {},
   "outputs": [
    {
     "name": "stdout",
     "output_type": "stream",
     "text": [
      "54\n"
     ]
    }
   ],
   "source": [
    "# Question 4:\n",
    "# Write a Python program to calculate and print the result of multiplying 6 by 9.\n",
    "print(6*9)"
   ]
  },
  {
   "cell_type": "code",
   "execution_count": 11,
   "id": "2608540e-5a5f-4668-b87c-52407cfb6926",
   "metadata": {},
   "outputs": [
    {
     "name": "stdout",
     "output_type": "stream",
     "text": [
      "10 6\n"
     ]
    }
   ],
   "source": [
    "# Question 5:\n",
    "# Write a Python program that prints the result of adding 5 + 5 and\n",
    "# multiplying 2 * 3 in a single line of code.\n",
    "print(5+5,2*3)"
   ]
  },
  {
   "cell_type": "code",
   "execution_count": 17,
   "id": "77865fcd-6f80-4183-b0dc-761b105ca00e",
   "metadata": {},
   "outputs": [
    {
     "name": "stdin",
     "output_type": "stream",
     "text": [
      " A\n"
     ]
    }
   ],
   "source": [
    "# Question 6:\n",
    "# Take the name A as input from the user and print \"Hello A\", where A is the name in input.\n",
    "Name = input()"
   ]
  },
  {
   "cell_type": "code",
   "execution_count": 19,
   "id": "af9ca378-8206-49b4-ad70-59243e98b82f",
   "metadata": {},
   "outputs": [
    {
     "name": "stdout",
     "output_type": "stream",
     "text": [
      "Hello A\n"
     ]
    }
   ],
   "source": [
    "print(\"Hello \"+Name)"
   ]
  },
  {
   "cell_type": "code",
   "execution_count": 23,
   "id": "c8c3ffad-0741-4763-ac01-e05fe0604d2a",
   "metadata": {},
   "outputs": [
    {
     "name": "stdin",
     "output_type": "stream",
     "text": [
      " 200\n"
     ]
    }
   ],
   "source": [
    "# Question 7:\n",
    "# You have x rupees in your savings. You google pay y rupees, print your bank balance\n",
    "Balance = int(input())"
   ]
  },
  {
   "cell_type": "code",
   "execution_count": 27,
   "id": "07135fcd-5256-4b12-b74c-a75643b0d0f1",
   "metadata": {},
   "outputs": [
    {
     "name": "stdin",
     "output_type": "stream",
     "text": [
      " 50\n"
     ]
    }
   ],
   "source": [
    "Pay = int(input())"
   ]
  },
  {
   "cell_type": "code",
   "execution_count": 29,
   "id": "c5641d63-9a4d-4f89-8f14-8e629e1c8ab8",
   "metadata": {},
   "outputs": [
    {
     "name": "stdout",
     "output_type": "stream",
     "text": [
      "150\n"
     ]
    }
   ],
   "source": [
    "Balance = Balance - Pay\n",
    "print(Balance)"
   ]
  },
  {
   "cell_type": "code",
   "execution_count": 31,
   "id": "c4cd1859-8612-4218-aba9-2ab48a54778a",
   "metadata": {},
   "outputs": [
    {
     "name": "stdout",
     "output_type": "stream",
     "text": [
      "A \n",
      "B \n",
      "C \n",
      "D \n",
      "E\n"
     ]
    }
   ],
   "source": [
    "# Question 8:\n",
    "# Print the first five letters of the English alphabet i.e. A, B, C, D and E. one below each other\n",
    "print(\"A \\nB \\nC \\nD \\nE\")"
   ]
  },
  {
   "cell_type": "code",
   "execution_count": 33,
   "id": "1c55bde1-0a38-4b4a-b627-cbc749c85ed4",
   "metadata": {},
   "outputs": [
    {
     "name": "stdin",
     "output_type": "stream",
     "text": [
      " reshu\n"
     ]
    }
   ],
   "source": [
    "# Question 9:\n",
    "# Take two names A and B as input from the user, and print \"A says Hi to B\" \n",
    "# (Without quotations), where A and B are the names in input.\n",
    "Name1 = input()"
   ]
  },
  {
   "cell_type": "code",
   "execution_count": 37,
   "id": "8c459caa-3970-4d9a-b617-d92b55742851",
   "metadata": {},
   "outputs": [
    {
     "name": "stdin",
     "output_type": "stream",
     "text": [
      " manasvi\n"
     ]
    }
   ],
   "source": [
    "Name2 = input()"
   ]
  },
  {
   "cell_type": "code",
   "execution_count": 39,
   "id": "b6268205-dffe-432e-a6cd-abec1139f068",
   "metadata": {
    "scrolled": true
   },
   "outputs": [
    {
     "name": "stdout",
     "output_type": "stream",
     "text": [
      "reshu :- Hi manasvi\n"
     ]
    }
   ],
   "source": [
    "print(Name1,\":- Hi\",Name2)"
   ]
  }
 ],
 "metadata": {
  "kernelspec": {
   "display_name": "Python 3 (ipykernel)",
   "language": "python",
   "name": "python3"
  },
  "language_info": {
   "codemirror_mode": {
    "name": "ipython",
    "version": 3
   },
   "file_extension": ".py",
   "mimetype": "text/x-python",
   "name": "python",
   "nbconvert_exporter": "python",
   "pygments_lexer": "ipython3",
   "version": "3.12.7"
  }
 },
 "nbformat": 4,
 "nbformat_minor": 5
}
