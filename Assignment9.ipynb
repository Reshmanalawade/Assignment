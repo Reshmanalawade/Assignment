{
 "cells": [
  {
   "cell_type": "markdown",
   "id": "99833443-cd96-4a56-8ec1-ffac13770d51",
   "metadata": {},
   "source": [
    "# Lists, Strings, Dictionaries, and Nested Structures"
   ]
  },
  {
   "cell_type": "markdown",
   "id": "9b734b8c-e3e9-41c3-84f6-68a979f68f8d",
   "metadata": {},
   "source": [
    "1. Year List Creation\n",
    "\n",
    "    Create a list years_list that includes the year of your birth and the next five years (total 6 years)."
   ]
  },
  {
   "cell_type": "code",
   "execution_count": 1,
   "id": "b2ff82d4-7faf-4610-afc9-d6d7d586adf5",
   "metadata": {},
   "outputs": [
    {
     "name": "stdout",
     "output_type": "stream",
     "text": [
      "[2003, 2004, 2005, 2006, 2007, 2008]\n"
     ]
    }
   ],
   "source": [
    "birth_year = 2003  # Replace this with your actual birth year\n",
    "years_list = [birth_year + i for i in range(6)]\n",
    "print(years_list)\n"
   ]
  },
  {
   "cell_type": "markdown",
   "id": "a4a6f058-2757-4377-b32e-dca92d0bc66a",
   "metadata": {},
   "source": [
    "2. Third Birthday Year\n",
    "\n",
    "        Print the year in years_list when you were 3 years old.\n"
   ]
  },
  {
   "cell_type": "code",
   "execution_count": 3,
   "id": "192775e4-1310-48b1-8e51-b8cd5edb371d",
   "metadata": {},
   "outputs": [
    {
     "name": "stdout",
     "output_type": "stream",
     "text": [
      "Year of 3rd birthday: 2006\n"
     ]
    }
   ],
   "source": [
    "birth_year = 2003 \n",
    "years_list = [birth_year + i for i in range(6)]\n",
    "\n",
    "third_birthday_year = years_list[3]\n",
    "print(\"Year of 3rd birthday:\", third_birthday_year)\n"
   ]
  },
  {
   "cell_type": "markdown",
   "id": "dfd40654-f4a4-42f2-9db2-5091a6399120",
   "metadata": {},
   "source": [
    "3. Oldest Year\n",
    "\n",
    "        Which year in years_list represents the most recent (your oldest age)?"
   ]
  },
  {
   "cell_type": "code",
   "execution_count": 20,
   "id": "14beb82c-90e1-4377-a149-a505f7bea710",
   "metadata": {},
   "outputs": [
    {
     "name": "stdout",
     "output_type": "stream",
     "text": [
      "Oldest Year: 2008\n"
     ]
    }
   ],
   "source": [
    "oldest_year = years_list[-1]  # 2005\n",
    "print(\"Oldest Year:\", oldest_year)\n"
   ]
  },
  {
   "cell_type": "markdown",
   "id": "b75b8e32-9733-4621-9b59-ca5e70bde2ae",
   "metadata": {},
   "source": [
    "4. List of Things\n",
    "\n",
    "   Create a list called things with the following items:\n",
    "    [\"mozzarella\", \"cinderella\", \"salmonella\"]"
   ]
  },
  {
   "cell_type": "code",
   "execution_count": 25,
   "id": "7ac08fdd-10e3-4865-96d4-6f552ffc089a",
   "metadata": {},
   "outputs": [],
   "source": [
    "things = [\"mozzarella\", \"cinderella\", \"salmonella\"]"
   ]
  },
  {
   "cell_type": "code",
   "execution_count": 38,
   "id": "892733c8-ccf2-4e91-9db0-09236d6fcf04",
   "metadata": {},
   "outputs": [
    {
     "data": {
      "text/plain": [
       "['mozzarella', 'Cinderella', 'salmonella']"
      ]
     },
     "execution_count": 38,
     "metadata": {},
     "output_type": "execute_result"
    }
   ],
   "source": [
    "things"
   ]
  },
  {
   "cell_type": "markdown",
   "id": "6fc4b0c8-7c4f-4e34-bfb0-2f6f55f98e8f",
   "metadata": {},
   "source": [
    "5. Capitalization Check\n",
    "   \n",
    "    Capitalize the item that refers to a person in the things list.\n",
    "\n",
    "   Print the list. Did the original list change?"
   ]
  },
  {
   "cell_type": "code",
   "execution_count": 31,
   "id": "c948dca8-3833-4ae9-95d3-ebfe9d157392",
   "metadata": {},
   "outputs": [
    {
     "name": "stdout",
     "output_type": "stream",
     "text": [
      "['mozzarella', 'Cinderella', 'salmonella']\n"
     ]
    }
   ],
   "source": [
    "things = [\"mozzarella\", \"cinderella\", \"salmonella\"]\n",
    "things[1] = things[1].capitalize()\n",
    "print(things)"
   ]
  },
  {
   "cell_type": "markdown",
   "id": "07745c35-c715-4f93-8f13-bfc819d0b720",
   "metadata": {},
   "source": [
    "Yes, the original list did change — the second item (\"cinderella\") was updated to \"Cinderella\"."
   ]
  },
  {
   "cell_type": "markdown",
   "id": "afa68d3f-8b6f-4a50-9d62-5749262dbdba",
   "metadata": {},
   "source": [
    "6. Surprise List\n",
    "\n",
    "    Create a list called surprise_list with these values:\n",
    "\n",
    "    [\"Groucho\", \"Chico\", \"Harpo\"]"
   ]
  },
  {
   "cell_type": "code",
   "execution_count": 34,
   "id": "26bb0a99-026c-4761-afac-f13182a15ddd",
   "metadata": {},
   "outputs": [],
   "source": [
    "surprise_list = [\"Groucho\", \"Chico\", \"Harpo\"]"
   ]
  },
  {
   "cell_type": "code",
   "execution_count": 36,
   "id": "9506bcd9-d895-475b-ad3c-da173c6ea74f",
   "metadata": {},
   "outputs": [
    {
     "data": {
      "text/plain": [
       "['Groucho', 'Chico', 'Harpo']"
      ]
     },
     "execution_count": 36,
     "metadata": {},
     "output_type": "execute_result"
    }
   ],
   "source": [
    "surprise_list"
   ]
  },
  {
   "cell_type": "markdown",
   "id": "48476dc3-e7a2-4672-8c8c-00d2da4c1241",
   "metadata": {},
   "source": [
    "7. String Transformation\n",
    "   \n",
    "   Take the last item in surprise_list:\n",
    "\n",
    "    • Lowercase it\n",
    "\n",
    "    • Reverse it\n",
    "\n",
    "    • Capitalize the result\n",
    "\n",
    "   Then print it."
   ]
  },
  {
   "cell_type": "code",
   "execution_count": 40,
   "id": "7e8b7dde-4ab3-4a86-a5d1-10503ca78f13",
   "metadata": {},
   "outputs": [
    {
     "name": "stdout",
     "output_type": "stream",
     "text": [
      "Oprah\n"
     ]
    }
   ],
   "source": [
    "surprise_list = [\"Groucho\", \"Chico\", \"Harpo\"]\n",
    "\n",
    "# Take the last item, transform as required\n",
    "result = surprise_list[-1].lower()[::-1].capitalize()\n",
    "\n",
    "print(result)"
   ]
  },
  {
   "cell_type": "markdown",
   "id": "3e7dbea0-cd70-4f24-a475-7e58f519e696",
   "metadata": {},
   "source": [
    "8. English-to-French Dictionary\n",
    "    \n",
    "    Create a dictionary e2f that maps these:\n",
    "\n",
    "    • dog → chien\n",
    "\n",
    "    • cat → chat\n",
    "\n",
    "    • walrus → morse\n",
    "\n",
    "  Print the dictionary."
   ]
  },
  {
   "cell_type": "code",
   "execution_count": 56,
   "id": "85246a54-ceb0-4e9b-bbac-431f1d36e4a3",
   "metadata": {},
   "outputs": [
    {
     "name": "stdout",
     "output_type": "stream",
     "text": [
      "{'dog': 'chien', 'cat': 'chat', 'walrus': 'morse'}\n"
     ]
    }
   ],
   "source": [
    "e2f = {\n",
    "    \"dog\": \"chien\",\n",
    "    \"cat\": \"chat\",\n",
    "    \"walrus\": \"morse\"\n",
    "}\n",
    "\n",
    "print(e2f)"
   ]
  },
  {
   "cell_type": "markdown",
   "id": "816ff56c-b75e-44c7-b631-0a6fa9b209aa",
   "metadata": {},
   "source": [
    "9. Translate 'walrus' to French\n",
    "\n",
    "    Use e2f to print the French word for “walrus.”"
   ]
  },
  {
   "cell_type": "code",
   "execution_count": 59,
   "id": "9ffdc2e6-ab07-4fca-9d90-6011fbaef7b7",
   "metadata": {},
   "outputs": [
    {
     "name": "stdout",
     "output_type": "stream",
     "text": [
      "morse\n"
     ]
    }
   ],
   "source": [
    "print(e2f[\"walrus\"])"
   ]
  },
  {
   "cell_type": "markdown",
   "id": "85672715-3ea6-44d0-8bec-6c035470521f",
   "metadata": {},
   "source": [
    "10. Reverse Dictionary\n",
    "\n",
    "    Create a reverse dictionary f2e from e2f using the .items() method. Print f2e."
   ]
  },
  {
   "cell_type": "code",
   "execution_count": 63,
   "id": "39cfdf9a-4125-4116-bc2b-99b6554788af",
   "metadata": {},
   "outputs": [
    {
     "name": "stdout",
     "output_type": "stream",
     "text": [
      "{'chien': 'dog', 'chat': 'cat', 'morse': 'walrus'}\n"
     ]
    }
   ],
   "source": [
    "f2e = {french: english for english, french in e2f.items()}\n",
    "print(f2e)"
   ]
  },
  {
   "cell_type": "markdown",
   "id": "acd71623-40c8-42f9-a965-16825882736b",
   "metadata": {},
   "source": [
    "11. Translate 'chien' to English\n",
    "\n",
    "    Use f2e to print the English word for “chien.”"
   ]
  },
  {
   "cell_type": "code",
   "execution_count": 66,
   "id": "5884c3c2-c2a0-43e5-943a-81b3dc91d744",
   "metadata": {},
   "outputs": [
    {
     "name": "stdout",
     "output_type": "stream",
     "text": [
      "dog\n"
     ]
    }
   ],
   "source": [
    "print(f2e[\"chien\"])"
   ]
  },
  {
   "cell_type": "markdown",
   "id": "4ad89b40-ae3d-4d42-bf38-de1cfc8c41d1",
   "metadata": {},
   "source": [
    "12. Get All English Words\n",
    "\n",
    "    Print the set of all English words (the keys from e2f)."
   ]
  },
  {
   "cell_type": "code",
   "execution_count": 69,
   "id": "f7b70321-06d7-4d5f-b21f-cb9299545acc",
   "metadata": {},
   "outputs": [
    {
     "name": "stdout",
     "output_type": "stream",
     "text": [
      "{'walrus', 'cat', 'dog'}\n"
     ]
    }
   ],
   "source": [
    "print(set(e2f.keys()))"
   ]
  },
  {
   "cell_type": "markdown",
   "id": "370d6b00-1c8f-4eac-8567-e7cb27236d85",
   "metadata": {},
   "source": [
    "13. Create a Nested Dictionary (life)\n",
    "\n",
    "    Create a dictionary life structured like this:\n",
    "\n",
    "    {\n",
    "\n",
    "    'animals': {\n",
    "    \n",
    "    'cats': ['Henri', 'Grumpy', 'Lucy'],\n",
    "    \n",
    "    'octopi': {},\n",
    "    \n",
    "    'emus': {}\n",
    "    \n",
    "    },\n",
    "    \n",
    "    'plants': {},\n",
    "    \n",
    "    'other': {}\n",
    "    \n",
    "    }"
   ]
  },
  {
   "cell_type": "code",
   "execution_count": 75,
   "id": "93ec8217-721f-401e-ac10-290a6db2bb0b",
   "metadata": {},
   "outputs": [],
   "source": [
    "life = {\n",
    "    'animals': {\n",
    "        'cats': ['Henri', 'Grumpy', 'Lucy'],\n",
    "        'octopi': {},\n",
    "        'emus': {}\n",
    "    },\n",
    "    'plants': {},\n",
    "    'other': {}\n",
    "}"
   ]
  },
  {
   "cell_type": "code",
   "execution_count": 77,
   "id": "e6bc9295-1494-4166-bdee-2c6e06dc517f",
   "metadata": {},
   "outputs": [
    {
     "data": {
      "text/plain": [
       "{'animals': {'cats': ['Henri', 'Grumpy', 'Lucy'], 'octopi': {}, 'emus': {}},\n",
       " 'plants': {},\n",
       " 'other': {}}"
      ]
     },
     "execution_count": 77,
     "metadata": {},
     "output_type": "execute_result"
    }
   ],
   "source": [
    "life"
   ]
  },
  {
   "cell_type": "markdown",
   "id": "05420a4b-1f7d-41f3-a3fe-1d047007c424",
   "metadata": {},
   "source": [
    "14. Top-Level Keys\n",
    "\n",
    "    Print the top-level keys of life."
   ]
  },
  {
   "cell_type": "code",
   "execution_count": 80,
   "id": "3c40f00a-d3ac-4b1d-bcef-ccfc2482d022",
   "metadata": {},
   "outputs": [
    {
     "name": "stdout",
     "output_type": "stream",
     "text": [
      "dict_keys(['animals', 'plants', 'other'])\n"
     ]
    }
   ],
   "source": [
    "print(life.keys())"
   ]
  },
  {
   "cell_type": "markdown",
   "id": "24eafaa5-bc8c-41c3-a924-9a5bdda58a37",
   "metadata": {},
   "source": [
    "15. Animal Categories\n",
    "\n",
    "    Print the keys inside life['animals']."
   ]
  },
  {
   "cell_type": "code",
   "execution_count": 83,
   "id": "5972a2b6-b271-4c6c-8805-5ae42f9e96ee",
   "metadata": {},
   "outputs": [
    {
     "name": "stdout",
     "output_type": "stream",
     "text": [
      "dict_keys(['cats', 'octopi', 'emus'])\n"
     ]
    }
   ],
   "source": [
    "print(life['animals'].keys())"
   ]
  },
  {
   "cell_type": "markdown",
   "id": "aa9b8331-52c0-455f-b2ea-44b11f642395",
   "metadata": {},
   "source": [
    "16. List of Cat Names\n",
    "\n",
    "    Print the list of cat names stored in life['animals']['cats']."
   ]
  },
  {
   "cell_type": "code",
   "execution_count": 86,
   "id": "efcdbff7-3d27-4be8-bc16-789f5d5e2825",
   "metadata": {},
   "outputs": [
    {
     "name": "stdout",
     "output_type": "stream",
     "text": [
      "['Henri', 'Grumpy', 'Lucy']\n"
     ]
    }
   ],
   "source": [
    "print(life['animals']['cats'])"
   ]
  }
 ],
 "metadata": {
  "kernelspec": {
   "display_name": "Python [conda env:base] *",
   "language": "python",
   "name": "conda-base-py"
  },
  "language_info": {
   "codemirror_mode": {
    "name": "ipython",
    "version": 3
   },
   "file_extension": ".py",
   "mimetype": "text/x-python",
   "name": "python",
   "nbconvert_exporter": "python",
   "pygments_lexer": "ipython3",
   "version": "3.12.7"
  }
 },
 "nbformat": 4,
 "nbformat_minor": 5
}
