{
 "cells": [
  {
   "cell_type": "code",
   "execution_count": 1,
   "id": "63891ca1-ad00-4335-a401-06c40c605784",
   "metadata": {},
   "outputs": [
    {
     "name": "stdin",
     "output_type": "stream",
     "text": [
      " 25\n"
     ]
    },
    {
     "name": "stdout",
     "output_type": "stream",
     "text": [
      "<class 'int'> 25\n"
     ]
    }
   ],
   "source": [
    "# Question 1:\n",
    "# Create a variable age and assign it the value 25 . Then print the value of\n",
    "# age along with its data type using the type() function.\n",
    "age = int(input())\n",
    "print(type(age),age)"
   ]
  },
  {
   "cell_type": "code",
   "execution_count": 3,
   "id": "7a972d4a-011e-4205-984e-bdc9d2643d76",
   "metadata": {},
   "outputs": [
    {
     "name": "stdout",
     "output_type": "stream",
     "text": [
      "<class 'float'> 12.5\n",
      "<class 'int'> 12\n"
     ]
    }
   ],
   "source": [
    "# Question 2:\n",
    "# Assign the number 12.5 to a variable price . Print both the variable and its\n",
    "# data type. Then assign the value 12 to the same variable and print its data\n",
    "# type again. What do you observe?\n",
    "price = 12.5\n",
    "print(type(price),price)\n",
    "price = 12\n",
    "print(type(price),price)"
   ]
  },
  {
   "cell_type": "code",
   "execution_count": 5,
   "id": "382dd915-ce93-4873-9552-26677b0d6d05",
   "metadata": {},
   "outputs": [
    {
     "name": "stdout",
     "output_type": "stream",
     "text": [
      "<class 'bool'> True\n",
      "<class 'bool'> False\n"
     ]
    }
   ],
   "source": [
    "# Question 3:\n",
    "# Create a variable is_raining and set it to True . Print the value of the variable\n",
    "# along with its type. Then set is_raining to False and print the new value and\n",
    "# type.\n",
    "is_raining = True\n",
    "print(type(is_raining),is_raining)\n",
    "is_raining = False\n",
    "print(type(is_raining),is_raining)"
   ]
  },
  {
   "cell_type": "code",
   "execution_count": 7,
   "id": "233b7760-e25b-4b18-a3a1-24f4a34309a8",
   "metadata": {},
   "outputs": [
    {
     "name": "stdout",
     "output_type": "stream",
     "text": [
      "'your full name'\n"
     ]
    }
   ],
   "source": [
    "# Question 4:\n",
    "# Create a variable my_name and store your full name in it as a string. Then\n",
    "# print the value of my_name using single quotes ' .\n",
    "my_name = \"your full name\"\n",
    "print(f\"'{my_name}'\")"
   ]
  },
  {
   "cell_type": "code",
   "execution_count": 11,
   "id": "a1a02149-38e9-4bd0-a592-916a8759c518",
   "metadata": {},
   "outputs": [
    {
     "name": "stdin",
     "output_type": "stream",
     "text": [
      " reshu\n",
      " 22\n"
     ]
    },
    {
     "name": "stdout",
     "output_type": "stream",
     "text": [
      "Hello, reshu! You are 22 years old.\n"
     ]
    }
   ],
   "source": [
    "# Question 5:\n",
    "# Write a Python program that asks the user for their name and age using the\n",
    "# input() function. Store the inputs in variables and print a sentence like\n",
    "# \"Hello, [Name]! You are [Age] years old.\" Ensure you cast the age to an\n",
    "# integer.\n",
    "user_name = input()\n",
    "user_age = int(input())\n",
    "print(\"Hello, \" + user_name + \"! You are \" + str(user_age) + \" years old.\")"
   ]
  },
  {
   "cell_type": "code",
   "execution_count": 13,
   "id": "cac9c5d7-0936-49aa-8e95-dae3f12bcca2",
   "metadata": {},
   "outputs": [
    {
     "name": "stdout",
     "output_type": "stream",
     "text": [
      "<class 'int'> 10\n",
      "<class 'float'> 3.5\n",
      "<class 'float'> 13.5\n"
     ]
    }
   ],
   "source": [
    "# Question 6:\n",
    "# Create two variables x and y and assign them the values 10 and 3.5 ,\n",
    "# respectively. Print their values and types. Then, create a new variable\n",
    "# sum_xy and store the sum of x and y . Print the result and its type.\n",
    "x = 10\n",
    "y = 3.5\n",
    "print(type(x),x)\n",
    "print(type(y),y)\n",
    "sum_xy = x + y\n",
    "print(type(sum_xy),sum_xy)"
   ]
  },
  {
   "cell_type": "code",
   "execution_count": 15,
   "id": "4e1987da-a872-4787-b794-ee94e64e854b",
   "metadata": {},
   "outputs": [
    {
     "name": "stdout",
     "output_type": "stream",
     "text": [
      "<class 'float'> <class 'str'> <class 'NoneType'> <class 'bool'>\n"
     ]
    }
   ],
   "source": [
    "# Question 7:\n",
    "# Using the type() function, check and print the data type of the following:\n",
    "# 45.0\n",
    "# \"hello\"\n",
    "# None\n",
    "# False\n",
    "a = 45.0\n",
    "b = \"hello\"\n",
    "c = None\n",
    "d = False\n",
    "print(type(a),type(b),type(c),type(d))"
   ]
  },
  {
   "cell_type": "code",
   "execution_count": 17,
   "id": "79400b81-372f-4e28-9f05-f1d5d22b403c",
   "metadata": {},
   "outputs": [
    {
     "name": "stdout",
     "output_type": "stream",
     "text": [
      "\"apple\" \"banana\" \"cherry\"\n",
      "\"apple\",\"banana\",\"cherry\"\n"
     ]
    }
   ],
   "source": [
    "# Question 8:\n",
    "# Write a Python program to print three strings \"apple\" , \"banana\" , and \"cherry\"\n",
    "# on the same line, separated by a space. Then modify the program to\n",
    "# separate the strings using a comma , instead of a space.\n",
    "print(\"\\\"apple\\\"\",\"\\\"banana\\\"\",\"\\\"cherry\\\"\",sep=\" \")\n",
    "print(\"\\\"apple\\\"\",\"\\\"banana\\\"\",\"\\\"cherry\\\"\",sep=\",\")"
   ]
  },
  {
   "cell_type": "code",
   "execution_count": 19,
   "id": "07304b09-5593-4522-a29d-82c2672fc5df",
   "metadata": {},
   "outputs": [
    {
     "name": "stdout",
     "output_type": "stream",
     "text": [
      "<class 'int'> 987654321987654321\n"
     ]
    }
   ],
   "source": [
    "# Question 9:\n",
    "# Create a variable big_number and assign it a very large integer value (e.g.,\n",
    "# 987654321987654321 ). Print the value and its type. What do you notice about\n",
    "# the size of the number?\n",
    "big_number = 987654321987654321\n",
    "print(type(big_number),big_number)"
   ]
  },
  {
   "cell_type": "code",
   "execution_count": 21,
   "id": "5d429de1-2e6a-47de-bef5-aae80076fa55",
   "metadata": {},
   "outputs": [
    {
     "name": "stdout",
     "output_type": "stream",
     "text": [
      "<class 'float'> 9.25\n"
     ]
    }
   ],
   "source": [
    "# Question 10:\n",
    "# Write a Python program that prints the result of multiplying two floats (e.g.,\n",
    "# 2.5 and 3.7 ). Then check and print the data type of the result.\n",
    "no1 = 2.5\n",
    "no2 = 3.7\n",
    "no3 = no1 * no2\n",
    "print(type(no3),no3)"
   ]
  }
 ],
 "metadata": {
  "kernelspec": {
   "display_name": "Python 3 (ipykernel)",
   "language": "python",
   "name": "python3"
  },
  "language_info": {
   "codemirror_mode": {
    "name": "ipython",
    "version": 3
   },
   "file_extension": ".py",
   "mimetype": "text/x-python",
   "name": "python",
   "nbconvert_exporter": "python",
   "pygments_lexer": "ipython3",
   "version": "3.12.7"
  }
 },
 "nbformat": 4,
 "nbformat_minor": 5
}
