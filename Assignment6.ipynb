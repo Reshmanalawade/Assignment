{
 "cells": [
  {
   "cell_type": "markdown",
   "id": "b063abc2-bb78-4294-9db0-5cdbb1d6e3e0",
   "metadata": {},
   "source": [
    "# 1. Short Answer Questions"
   ]
  },
  {
   "cell_type": "markdown",
   "id": "39b22900-e013-40c6-803a-a78d0e948fe4",
   "metadata": {},
   "source": [
    "# Question 1. Explain the difference between def statements and lambda expressions. \n",
    "Give an example of each.\n",
    "| Feature                 | `def` Statement                      | `lambda` Expression                           |\n",
    "| ----------------------- | ------------------------------------ | --------------------------------------------- |\n",
    "| **Definition**          | Defines a full function with a name  | Creates an anonymous (unnamed) function       |\n",
    "| **Syntax**              | More readable and flexible           | Compact and used for simple operations        |\n",
    "| **Function Name**       | Usually assigned a name              | Usually used inline or assigned to a variable |\n",
    "| **Supports Statements** | Yes (can have multiple lines)        | No (only a single expression)                 |\n",
    "| **Use Case**            | When logic is more complex or reused | When a quick, short function is needed        |\n"
   ]
  },
  {
   "cell_type": "code",
   "execution_count": 25,
   "id": "aa419d17-89e4-4533-ac88-d2695b867c0e",
   "metadata": {},
   "outputs": [
    {
     "name": "stdout",
     "output_type": "stream",
     "text": [
      "Using def: 8\n"
     ]
    }
   ],
   "source": [
    "# Example of def Statement:\n",
    "def add(a, b):\n",
    "    return a + b\n",
    "\n",
    "print(\"Using def:\", add(3, 5))  \n"
   ]
  },
  {
   "cell_type": "code",
   "execution_count": 26,
   "id": "33a7487e-aae2-4d7c-9ccc-aaf4c21b56bd",
   "metadata": {},
   "outputs": [
    {
     "name": "stdout",
     "output_type": "stream",
     "text": [
      "Using lambda: 10\n"
     ]
    }
   ],
   "source": [
    "# Example of lambda expression:\n",
    "add_lambda = lambda a, b: a + b\n",
    "print(\"Using lambda:\", add_lambda(2, 8))  "
   ]
  },
  {
   "cell_type": "markdown",
   "id": "5e0be071-8805-49b4-b5bc-6727c432a62d",
   "metadata": {},
   "source": [
    "# Question 2. List and explain three benefits of using lambda expressions.\n",
    "\n",
    "Ans:\n",
    "1. Concise Code\n",
    "Lambda expressions allow you to write small functions in a single line of code. \n",
    "This reduces the need to define full functions using the def keyword when the logic is simple, making the code shorter and more readable.\n",
    "2. Useful for One-Time or Anonymous Functions\n",
    "Lambdas are ideal for creating functions that are used only once or in a specific context (e.g., as arguments to map(), filter(), or sorted()).\n",
    "This avoids the need to formally name and define a function that won’t be reused.\n",
    "3. Improves Code Readability in Functional Programming\n",
    "In functional programming style, functions are often passed as arguments. Using lambda expressions keeps the function definition close to where it's used, which makes the code easier to understand and follow."
   ]
  },
  {
   "cell_type": "markdown",
   "id": "bb974c5d-8122-4855-a4e9-86c4937d9c62",
   "metadata": {},
   "source": [
    "# Question 3. Compare map(), filter(), and reduce() with one-line examples using a lambda\n",
    "function and a list.\n",
    "| Function   | Purpose              | Returns                    | Common Use                  |\n",
    "| ---------- | -------------------- | -------------------------- | --------------------------- |\n",
    "| `map()`    | Transform each item  | A new iterable (e.g. list) | Apply operation to all      |\n",
    "| `filter()` | Select certain items | A filtered iterable        | Condition-based filter      |\n",
    "| `reduce()` | Combine items        | A single value             | Accumulation (sum, product) |\n",
    "\n",
    "\n",
    "1.map() Function\n",
    "\n",
    "\n",
    "Purpose:\n",
    "Applies a given function to each item in an iterable (like a list) and returns a new iterable with the results.\n",
    "\n",
    "Usage:\n",
    "Use map() when you want to transform or modify each element of a collection.\n",
    "\n",
    "\n",
    "\n",
    "2.filter() Function\n",
    "\n",
    "\n",
    "Purpose:\n",
    "Applies a function to each item and returns only those items for which the function returns True.\n",
    "\n",
    "Usage:\n",
    "Use filter() when you want to select specific items based on a condition.\n",
    "\n",
    "\n",
    "3.reduce() Function\n",
    "\n",
    "\n",
    "Purpose:\n",
    "Applies a function cumulatively to the items in a sequence, reducing them to a single output value.\n",
    "\n",
    "Usage:\n",
    "Use reduce() when you want to combine all elements, such as calculating a sum or product."
   ]
  },
  {
   "cell_type": "code",
   "execution_count": 29,
   "id": "94d24351-836f-466f-bfdb-ddc371cab22e",
   "metadata": {},
   "outputs": [
    {
     "data": {
      "text/plain": [
       "[2, 4, 6, 8]"
      ]
     },
     "execution_count": 29,
     "metadata": {},
     "output_type": "execute_result"
    }
   ],
   "source": [
    "# Example of map() Function:\n",
    "list(map(lambda x: x * 2, [1, 2, 3, 4]))  # Output: [2, 4, 6, 8]"
   ]
  },
  {
   "cell_type": "code",
   "execution_count": 30,
   "id": "0e5c5b14-5441-403a-91bc-a99af9fd6e67",
   "metadata": {},
   "outputs": [
    {
     "data": {
      "text/plain": [
       "[2, 4]"
      ]
     },
     "execution_count": 30,
     "metadata": {},
     "output_type": "execute_result"
    }
   ],
   "source": [
    "# Example of filter() Function:\n",
    "list(filter(lambda x: x % 2 == 0, [1, 2, 3, 4]))  # Output: [2, 4]"
   ]
  },
  {
   "cell_type": "code",
   "execution_count": 31,
   "id": "0a7c4f3c-b944-47b3-b6b4-32b6b3a8be14",
   "metadata": {},
   "outputs": [
    {
     "data": {
      "text/plain": [
       "10"
      ]
     },
     "execution_count": 31,
     "metadata": {},
     "output_type": "execute_result"
    }
   ],
   "source": [
    "# Example of reduce() Function:\n",
    "from functools import reduce\n",
    "reduce(lambda x, y: x + y, [1, 2, 3, 4])  # Output: 10"
   ]
  },
  {
   "cell_type": "markdown",
   "id": "69cf9638-f515-4e4b-9cf4-ce2c960d446e",
   "metadata": {},
   "source": [
    "# Question 4. What are function annotations in Python? Write a function that uses them.\n",
    "\n",
    "Answer:\n",
    "\n",
    "Function annotations are a way to attach metadata to a function’s parameters and return value. They were introduced in PEP 3107 and are primarily used for type hints, improving code readability, helping tools like IDEs, linters, or static type checkers (e.g., mypy), and enhancing documentation.\n",
    "\n",
    "Function:\n",
    "\n",
    "def function_name(param1: type1, param2: type2) -> return_type:\n",
    "    # function body\n"
   ]
  },
  {
   "cell_type": "markdown",
   "id": "db4400fa-c7d7-48a3-a329-b8181f4a7ff9",
   "metadata": {},
   "source": [
    "# Question 5. What is a recursive function? Write a simple recursive function to calculate the\n",
    "factorial of a number.\n",
    "\n",
    "Answer:\n",
    "\n",
    "A recursive function is a function that calls itself in order to solve a problem. \n",
    "It breaks down a larger problem into smaller sub-problems of the same type until it reaches a base case, which stops the recursion.\n",
    "\n",
    "Function:\n",
    "\n",
    "def factorial(n):\n",
    "\n",
    "    if n == 0:\n",
    "    \n",
    "        return 1  # base case\n",
    "        \n",
    "    else:\n",
    "    \n",
    "        return n * factorial(n - 1)  # recursive call\n",
    "\n",
    "print(factorial(5))  \n",
    "\n",
    "Output: 120\n"
   ]
  },
  {
   "cell_type": "markdown",
   "id": "d5ad8716-8cb4-4f3f-b22a-edc26ffccf8f",
   "metadata": {},
   "source": [
    "# Question 6 . State five design guidelines you should follow while writing functions in Python.\n",
    "\n",
    "Five Design Guidelines for Writing Functions in Python:\n",
    "1) Use Clear and Descriptive Function Names\n",
    "\n",
    "2) Keep Functions Small and Focused (Single Responsibility)\n",
    "\n",
    "3) Use Meaningful Parameter Names\n",
    "\n",
    "4) Avoid Global Variables (Use Parameters and Return Values)\n",
    "\n",
    "5) Include a Docstring to Describe the Function\n"
   ]
  },
  {
   "cell_type": "markdown",
   "id": "81a2b61d-d7db-4c2a-88c6-62c4dcacefac",
   "metadata": {},
   "source": [
    "# Question 7. Name at least three ways a function can communicate results to a caller and briefly explain each.\n",
    "1) Return Statement\n",
    "\n",
    "   The most common way for a function to send back a result.\n",
    "\n",
    "   The return keyword ends the function and gives back a value to the caller.\n",
    "   \n",
    "   Ex:\n",
    "   \n",
    "   def add(a, b):\n",
    "   \n",
    "          return a + b\n",
    "   \n",
    "   result = add(3, 4)  # result gets 7\n",
    "\n",
    "   \n",
    "\n",
    "2) Modifying Mutable Arguments\n",
    "\n",
    "   A function can change the contents of a mutable object (like a list or dictionary) passed to it.\n",
    "\n",
    "    These changes are visible outside the function.\n",
    "\n",
    "\n",
    "   Ex:\n",
    "\n",
    "   def append_item(my_list):\n",
    "\n",
    "   \n",
    "            my_list.append(10)\n",
    "\n",
    "   \n",
    "    nums = [1, 2]\n",
    " \n",
    "   append_item(nums)  # nums becomes [1, 2, 10]\n",
    "\n",
    "\n",
    "3) Printing Output\n",
    "\n",
    "    A function can use print() to display results to the console.\n",
    "\n",
    "    This doesn't return a value but shows output to the user or system.\n",
    "\n",
    "\n",
    "   Ex:\n",
    "\n",
    "   \n",
    "       def show_message():\n",
    "\n",
    "           print(\"Task completed.\")\n",
    "\n",
    "    show_message()  # prints \"Task completed.\"\n",
    "\n",
    "\n",
    "   \n"
   ]
  },
  {
   "cell_type": "markdown",
   "id": "d6582bc5-7544-4689-bb1c-746ba818e2e7",
   "metadata": {},
   "source": [
    "# 2. Coding Tasks"
   ]
  },
  {
   "cell_type": "code",
   "execution_count": 35,
   "id": "b108b8b7-e48d-4bf2-a1ba-09b668b2aa1f",
   "metadata": {},
   "outputs": [
    {
     "name": "stdout",
     "output_type": "stream",
     "text": [
      "The product of 5 and 7 is: 35\n"
     ]
    }
   ],
   "source": [
    "# Question 1:\n",
    "# Write a lambda function that takes two numbers and returns their product. Assign it to a\n",
    "#variable and call it with 5 and 7.\n",
    "\n",
    "multiply = lambda x, y: x * y\n",
    "result = multiply(5, 7)\n",
    "\n",
    "print(\"The product of 5 and 7 is:\", result)\n"
   ]
  },
  {
   "cell_type": "code",
   "execution_count": 36,
   "id": "3b297e30-1e9f-4a85-8563-d931395ec0f5",
   "metadata": {},
   "outputs": [
    {
     "name": "stdout",
     "output_type": "stream",
     "text": [
      "Squared numbers: [1, 4, 9, 16, 25]\n"
     ]
    }
   ],
   "source": [
    "# Question 2:\n",
    "# Use map() to square every number in a list [1, 2, 3, 4, 5].\n",
    "\n",
    "numbers = [1, 2, 3, 4, 5]\n",
    "squared_numbers = list(map(lambda x: x**2, numbers))\n",
    "print(\"Squared numbers:\", squared_numbers)\n"
   ]
  },
  {
   "cell_type": "code",
   "execution_count": 37,
   "id": "711256f7-ce09-4523-a216-f4691920c7d9",
   "metadata": {},
   "outputs": [
    {
     "name": "stdout",
     "output_type": "stream",
     "text": [
      "Even numbers: [10, 20, 30]\n"
     ]
    }
   ],
   "source": [
    "# Question 3:\n",
    "# Use filter() to extract only the even numbers from the list [10, 15, 20, 25, 30].\n",
    "\n",
    "numbers = [10, 15, 20, 25, 30]\n",
    "even_numbers = list(filter(lambda x: x % 2 == 0, numbers))\n",
    "print(\"Even numbers:\", even_numbers)\n"
   ]
  },
  {
   "cell_type": "code",
   "execution_count": 38,
   "id": "14e442fb-960c-44a8-ab68-b823a735e044",
   "metadata": {},
   "outputs": [
    {
     "name": "stdout",
     "output_type": "stream",
     "text": [
      "Product of the numbers: 120\n"
     ]
    }
   ],
   "source": [
    "# Question 4:\n",
    "# Use reduce() from functools to calculate the product of numbers in [1, 2, 3, 4, 5].\n",
    "\n",
    "from functools import reduce\n",
    "numbers = [1, 2, 3, 4, 5]\n",
    "product = reduce(lambda x, y: x * y, numbers)\n",
    "print(\"Product of the numbers:\", product)\n"
   ]
  },
  {
   "cell_type": "code",
   "execution_count": 39,
   "id": "0011acfa-c3d3-4969-9738-acec803aa6ed",
   "metadata": {},
   "outputs": [
    {
     "name": "stdout",
     "output_type": "stream",
     "text": [
      "The number is: Even\n"
     ]
    }
   ],
   "source": [
    "# Question 5:\n",
    "# Create a function with annotations that:\n",
    "#takes an integer as input,\n",
    "#returns a string saying whether it is \"Even\" or \"Odd\".\n",
    "\n",
    "def check_even_odd(num: int) -> str:\n",
    "    if num % 2 == 0:\n",
    "        return \"Even\"\n",
    "    else:\n",
    "        return \"Odd\"\n",
    "result = check_even_odd(2)\n",
    "print(\"The number is:\", result)\n"
   ]
  },
  {
   "cell_type": "code",
   "execution_count": 40,
   "id": "e5b268b6-3a74-4661-b306-78a776a9b0c9",
   "metadata": {},
   "outputs": [
    {
     "name": "stdout",
     "output_type": "stream",
     "text": [
      "Sum from 1 to 10 is: 55\n"
     ]
    }
   ],
   "source": [
    "# Question 6:\n",
    "# Write a recursive function to compute the sum of all numbers from 1 to n.\n",
    "\n",
    "def recursive_sum(n: int) -> int:\n",
    "    if n == 1:\n",
    "        return 1\n",
    "    else:\n",
    "        return n + recursive_sum(n - 1)\n",
    "result = recursive_sum(10)\n",
    "print(\"Sum from 1 to 10 is:\", result)\n"
   ]
  },
  {
   "cell_type": "code",
   "execution_count": 41,
   "id": "312c6ffa-58b4-4195-9ec9-23a76293f4c9",
   "metadata": {},
   "outputs": [
    {
     "name": "stdout",
     "output_type": "stream",
     "text": [
      "Printed: 10\n",
      "Returned: 20\n",
      "Yielded: 11\n"
     ]
    }
   ],
   "source": [
    "# Question 7:\n",
    "# Write a function that returns different results using print, return, and yield. \n",
    "#Call the function and show how each type of output works.\n",
    "\n",
    "def example(n):\n",
    "    print(\"Printed:\", n)      # Using print\n",
    "    return n * 2              # Using return\n",
    "\n",
    "def example_yield(n):\n",
    "    yield n + 1               # Using yield\n",
    "\n",
    "res = example(10)\n",
    "print(\"Returned:\", res)\n",
    "\n",
    "for val in example_yield(10):\n",
    "    print(\"Yielded:\", val)"
   ]
  }
 ],
 "metadata": {
  "kernelspec": {
   "display_name": "Python [conda env:base] *",
   "language": "python",
   "name": "conda-base-py"
  },
  "language_info": {
   "codemirror_mode": {
    "name": "ipython",
    "version": 3
   },
   "file_extension": ".py",
   "mimetype": "text/x-python",
   "name": "python",
   "nbconvert_exporter": "python",
   "pygments_lexer": "ipython3",
   "version": "3.12.7"
  }
 },
 "nbformat": 4,
 "nbformat_minor": 5
}
