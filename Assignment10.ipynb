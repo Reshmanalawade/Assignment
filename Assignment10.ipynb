{
 "cells": [
  {
   "cell_type": "markdown",
   "id": "27db302b-4389-4bee-b6c7-5dff46eb901b",
   "metadata": {},
   "source": [
    "# Time Calculations and Prime Number Generator"
   ]
  },
  {
   "cell_type": "markdown",
   "id": "ca2a4742-f437-4636-afef-6c75331cc497",
   "metadata": {},
   "source": [
    "1. Seconds in an Hour\n",
    "\n",
    "   Use Python to calculate how many seconds are in one hour. Multiply the number of seconds\n",
    "\n",
    "   in a minute by the number of minutes in an hour."
   ]
  },
  {
   "cell_type": "code",
   "execution_count": 3,
   "id": "4fa8c923-ac72-4f87-9e70-985a8c361ad1",
   "metadata": {},
   "outputs": [
    {
     "name": "stdout",
     "output_type": "stream",
     "text": [
      "Seconds in an hour: 3600\n"
     ]
    }
   ],
   "source": [
    "seconds_per_minute = 60\n",
    "\n",
    "minutes_per_hour = 60\n",
    "\n",
    "seconds_per_hour = seconds_per_minute * minutes_per_hour\n",
    "\n",
    "print(\"Seconds in an hour:\", seconds_per_hour)"
   ]
  },
  {
   "cell_type": "markdown",
   "id": "8b694dd0-6258-4c64-a76f-08473a4dfe34",
   "metadata": {},
   "source": [
    "2. Store the Result in a Variable\n",
    "\n",
    "   Assign the result from Question 1 to a variable called seconds_per_hour and print it."
   ]
  },
  {
   "cell_type": "code",
   "execution_count": 8,
   "id": "076a1542-5442-4883-93b4-b9fdaa15a267",
   "metadata": {},
   "outputs": [
    {
     "name": "stdout",
     "output_type": "stream",
     "text": [
      "Seconds per hour: 3600\n"
     ]
    }
   ],
   "source": [
    "seconds_per_hour = 60 * 60\n",
    "\n",
    "print(\"Seconds per hour:\", seconds_per_hour)"
   ]
  },
  {
   "cell_type": "markdown",
   "id": "2c4f7422-e345-4340-82e5-225a14ca905f",
   "metadata": {},
   "source": [
    "3. Calculate Seconds in a Day\n",
    "\n",
    "   Estimate how many seconds are in a day. Use the variable seconds_per_hour and any other\n",
    "\n",
    "   variables you may need."
   ]
  },
  {
   "cell_type": "code",
   "execution_count": 11,
   "id": "a8247465-55af-4d54-b820-bd3ff5dc89f3",
   "metadata": {},
   "outputs": [
    {
     "name": "stdout",
     "output_type": "stream",
     "text": [
      "Seconds in a day: 86400\n"
     ]
    }
   ],
   "source": [
    "seconds_per_hour = 60 * 60\n",
    "\n",
    "hours_per_day = 24\n",
    "\n",
    "seconds_per_day = seconds_per_hour * hours_per_day\n",
    "\n",
    "print(\"Seconds in a day:\", seconds_per_day)"
   ]
  },
  {
   "cell_type": "markdown",
   "id": "184884f2-2268-4e67-9442-7279bafe9f03",
   "metadata": {},
   "source": [
    "4. Save Seconds Per Day in a Variable\n",
    "\n",
    "   Recalculate the number of seconds in a day and assign the result to a variable called\n",
    "\n",
    "   seconds_per_day. Print the value."
   ]
  },
  {
   "cell_type": "code",
   "execution_count": 14,
   "id": "8f22f6d9-6538-4d1d-b5bb-a6bcd7b07ebd",
   "metadata": {},
   "outputs": [
    {
     "name": "stdout",
     "output_type": "stream",
     "text": [
      "Seconds per day: 86400\n"
     ]
    }
   ],
   "source": [
    "seconds_per_hour = 60 * 60\n",
    "seconds_per_day = seconds_per_hour * 24\n",
    "\n",
    "print(\"Seconds per day:\", seconds_per_day)"
   ]
  },
  {
   "cell_type": "markdown",
   "id": "bb2be442-13c5-4272-bf27-99b17dd43fb4",
   "metadata": {},
   "source": [
    "5. Floating-Point Division\n",
    "\n",
    "   Divide seconds_per_day by seconds_per_hour using floating-point division (/). What\n",
    "\n",
    "   result do you get?"
   ]
  },
  {
   "cell_type": "code",
   "execution_count": 17,
   "id": "7240e773-cdf8-4c7c-8fbf-dfec59f31d90",
   "metadata": {},
   "outputs": [
    {
     "name": "stdout",
     "output_type": "stream",
     "text": [
      "Floating-point division result: 24.0\n"
     ]
    }
   ],
   "source": [
    "seconds_per_hour = 60 * 60\n",
    "seconds_per_day = seconds_per_hour * 24\n",
    "\n",
    "result = seconds_per_day / seconds_per_hour\n",
    "\n",
    "print(\"Floating-point division result:\", result)"
   ]
  },
  {
   "cell_type": "markdown",
   "id": "ba57b0c5-df2b-41a9-b618-5ac385836759",
   "metadata": {},
   "source": [
    "6. Integer Division\n",
    "\n",
    "   Now divide seconds_per_day by seconds_per_hour using integer division (//). Does this\n",
    "\n",
    "   value match the previous result aside from the decimal point?"
   ]
  },
  {
   "cell_type": "code",
   "execution_count": 20,
   "id": "fc5b4839-dc02-42e5-9251-1e37b9c5ac1d",
   "metadata": {},
   "outputs": [
    {
     "name": "stdout",
     "output_type": "stream",
     "text": [
      "Integer division result: 24\n"
     ]
    }
   ],
   "source": [
    "seconds_per_hour = 60 * 60\n",
    "seconds_per_day = seconds_per_hour * 24\n",
    "\n",
    "result = seconds_per_day // seconds_per_hour\n",
    "\n",
    "print(\"Integer division result:\", result)"
   ]
  },
  {
   "cell_type": "markdown",
   "id": "03e01a37-b44f-4520-ba94-47b704d7c483",
   "metadata": {},
   "source": [
    "7. Prime Number Generator\n",
    "\n",
    "   Write a generator function genPrimes() that yields an infinite sequence of prime numbers\n",
    "\n",
    "   starting from 2.\n",
    "\n",
    "   Use a loop to print the first 5 prime numbers generated by genPrimes()."
   ]
  },
  {
   "cell_type": "code",
   "execution_count": 23,
   "id": "413bbf09-5737-42e2-942d-da22a9da93f8",
   "metadata": {},
   "outputs": [
    {
     "name": "stdout",
     "output_type": "stream",
     "text": [
      "2\n",
      "3\n",
      "5\n",
      "7\n",
      "11\n"
     ]
    }
   ],
   "source": [
    "def genPrimes():\n",
    "    primes = []  # List to store the prime numbers found\n",
    "    num = 2       # Start from the first prime number\n",
    "\n",
    "    while True:\n",
    "        # Check if num is divisible by any known prime\n",
    "        is_prime = True\n",
    "        for p in primes:\n",
    "            if num % p == 0:\n",
    "                is_prime = False\n",
    "                break\n",
    "        if is_prime:\n",
    "            primes.append(num)\n",
    "            yield num\n",
    "        num += 1\n",
    "\n",
    "prime_generator = genPrimes()\n",
    "\n",
    "for _ in range(5):\n",
    "    print(next(prime_generator))"
   ]
  }
 ],
 "metadata": {
  "kernelspec": {
   "display_name": "Python [conda env:base] *",
   "language": "python",
   "name": "conda-base-py"
  },
  "language_info": {
   "codemirror_mode": {
    "name": "ipython",
    "version": 3
   },
   "file_extension": ".py",
   "mimetype": "text/x-python",
   "name": "python",
   "nbconvert_exporter": "python",
   "pygments_lexer": "ipython3",
   "version": "3.12.7"
  }
 },
 "nbformat": 4,
 "nbformat_minor": 5
}
